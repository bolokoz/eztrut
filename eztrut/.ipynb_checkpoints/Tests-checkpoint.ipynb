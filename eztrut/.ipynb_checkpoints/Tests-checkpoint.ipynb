{
 "cells": [
  {
   "cell_type": "code",
   "execution_count": 1,
   "metadata": {
    "collapsed": false
   },
   "outputs": [],
   "source": [
    "import eztrut as ez\n",
    "import matplotlib.pyplot as plt\n",
    "import numpy as np"
   ]
  },
  {
   "cell_type": "code",
   "execution_count": 2,
   "metadata": {
    "collapsed": false
   },
   "outputs": [],
   "source": [
    "# Criar uma viga de tamanho 4. Momento, inercia e area serao padrao.\n",
    "viga1 = ez.Viga(5)\n",
    "\n",
    "# Criar dois apoios. Um apoio fixo na ponta esquerda (x = 0) e outro livre no fim (x = 4)\n",
    "apoioA = ez.Apoio(x=1, tipo=2)\n",
    "apoioB = ez.Apoio(x=3, tipo=1)\n",
    "\n",
    "# Criar uma forca CONCENTRADA vertical (de cima para baixo) de 10kN no meio da viga (x = 2)\n",
    "forca1 = ez.ForcaC(f=-10000, x=5, tipo=2)\n",
    "\n",
    "# Criar a estrutura para resolver os diagramas\n",
    "apoios = [apoioA, apoioB]\n",
    "forcas = [forca1]\n",
    "estrut1 = ez.Eztrut(viga1, apoios, forcas)"
   ]
  },
  {
   "cell_type": "code",
   "execution_count": 3,
   "metadata": {
    "collapsed": false
   },
   "outputs": [
    {
     "data": {
      "image/png": "[encoded data removed]",
      "text/plain": [
       "<matplotlib.figure.Figure at 0x7d02830>"
      ]
     },
     "metadata": {},
     "output_type": "display_data"
    }
   ],
   "source": [
    "estrut1.mostrar_figura()\n",
    "estrut1.plotagem_reacao_apoio()"
   ]
  },
  {
   "cell_type": "code",
   "execution_count": 4,
   "metadata": {
    "collapsed": false,
    "scrolled": true
   },
   "outputs": [
    {
     "name": "stdout",
     "output_type": "stream",
     "text": [
      " Soma de forcas em y: -10.0 kN \n",
      " Apoio A: -10.0 kN \n",
      " Apoio B: 20.0 kN \n",
      "\n"
     ]
    }
   ],
   "source": [
    "estrut1.reacao_apoio_biapoiada_isoestatica()"
   ]
  },
  {
   "cell_type": "code",
   "execution_count": 5,
   "metadata": {
    "collapsed": false
   },
   "outputs": [
    {
     "name": "stdout",
     "output_type": "stream",
     "text": [
      "3\n"
     ]
    }
   ],
   "source": [
    "estrut1.memorial_reacao()"
   ]
  },
  {
   "cell_type": "code",
   "execution_count": 6,
   "metadata": {
    "collapsed": false
   },
   "outputs": [
    {
     "ename": "NameError",
     "evalue": "name 'init_printing' is not defined",
     "output_type": "error",
     "traceback": [
      "\u001b[0;31m---------------------------------------------------------------------------\u001b[0m",
      "\u001b[0;31mNameError\u001b[0m                                 Traceback (most recent call last)",
      "\u001b[0;32m<ipython-input-6-c2caa6a82039>\u001b[0m in \u001b[0;36m<module>\u001b[0;34m()\u001b[0m\n\u001b[0;32m----> 1\u001b[0;31m \u001b[0minit_printing\u001b[0m\u001b[1;33m(\u001b[0m\u001b[1;33m)\u001b[0m\u001b[1;33m\u001b[0m\u001b[0m\n\u001b[0m\u001b[1;32m      2\u001b[0m \u001b[0mestrut1\u001b[0m\u001b[1;33m.\u001b[0m\u001b[0mmemorial_reacao\u001b[0m\u001b[1;33m(\u001b[0m\u001b[1;33m)\u001b[0m\u001b[1;33m\u001b[0m\u001b[0m\n",
      "\u001b[0;31mNameError\u001b[0m: name 'init_printing' is not defined"
     ]
    }
   ],
   "source": [
    "sympy.init_printing()\n",
    "estrut1.memorial_reacao()"
   ]
  },
  {
   "cell_type": "code",
   "execution_count": null,
   "metadata": {
    "collapsed": true
   },
   "outputs": [],
   "source": []
  }
 ],
 "metadata": {
  "kernelspec": {
   "display_name": "Python 3",
   "language": "python",
   "name": "python3"
  },
  "language_info": {
   "codemirror_mode": {
    "name": "ipython",
    "version": 3
   },
   "file_extension": ".py",
   "mimetype": "text/x-python",
   "name": "python",
   "nbconvert_exporter": "python",
   "pygments_lexer": "ipython3",
   "version": "3.6.0"
  }
 },
 "nbformat": 4,
 "nbformat_minor": 2
}
