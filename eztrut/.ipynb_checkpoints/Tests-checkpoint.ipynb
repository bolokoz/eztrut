{
 "cells": [
  {
   "cell_type": "code",
   "execution_count": 1,
   "metadata": {
    "collapsed": true
   },
   "outputs": [],
   "source": [
    "import eztrut as ez\n",
    "import matplotlib.pyplot as plt\n",
    "import numpy as np"
   ]
  },
  {
   "cell_type": "code",
   "execution_count": 2,
   "metadata": {
    "collapsed": false
   },
   "outputs": [
    {
     "ename": "TypeError",
     "evalue": "__init__() got an unexpected keyword argument 'l'",
     "output_type": "error",
     "traceback": [
      "\u001b[0;31m---------------------------------------------------------------------------\u001b[0m",
      "\u001b[0;31mTypeError\u001b[0m                                 Traceback (most recent call last)",
      "\u001b[0;32m<ipython-input-2-1f9948faf52e>\u001b[0m in \u001b[0;36m<module>\u001b[0;34m()\u001b[0m\n\u001b[1;32m      1\u001b[0m \u001b[1;31m# Criar uma viga de tamanho 4. Momento, inercia e area serao padrao.\u001b[0m\u001b[1;33m\u001b[0m\u001b[1;33m\u001b[0m\u001b[0m\n\u001b[0;32m----> 2\u001b[0;31m \u001b[0mviga1\u001b[0m \u001b[1;33m=\u001b[0m \u001b[0mez\u001b[0m\u001b[1;33m.\u001b[0m\u001b[0mViga\u001b[0m\u001b[1;33m(\u001b[0m\u001b[0ml\u001b[0m\u001b[1;33m=\u001b[0m\u001b[1;36m4\u001b[0m\u001b[1;33m)\u001b[0m\u001b[1;33m\u001b[0m\u001b[0m\n\u001b[0m\u001b[1;32m      3\u001b[0m \u001b[1;33m\u001b[0m\u001b[0m\n\u001b[1;32m      4\u001b[0m \u001b[1;31m# Criar dois apoios. Um apoio fixo na ponta esquerda (x = 0) e outro livre no fim (x = 4)\u001b[0m\u001b[1;33m\u001b[0m\u001b[1;33m\u001b[0m\u001b[0m\n\u001b[1;32m      5\u001b[0m \u001b[0mapoioA\u001b[0m \u001b[1;33m=\u001b[0m \u001b[0mez\u001b[0m\u001b[1;33m.\u001b[0m\u001b[0mApoio\u001b[0m\u001b[1;33m(\u001b[0m\u001b[0mx\u001b[0m\u001b[1;33m=\u001b[0m\u001b[1;36m0\u001b[0m\u001b[1;33m,\u001b[0m \u001b[0mtipo\u001b[0m\u001b[1;33m=\u001b[0m\u001b[1;36m2\u001b[0m\u001b[1;33m)\u001b[0m\u001b[1;33m\u001b[0m\u001b[0m\n",
      "\u001b[0;31mTypeError\u001b[0m: __init__() got an unexpected keyword argument 'l'"
     ]
    }
   ],
   "source": [
    "# Criar uma viga de tamanho 4. Momento, inercia e area serao padrao.\n",
    "viga1 = ez.Viga(l=4)\n",
    "\n",
    "# Criar dois apoios. Um apoio fixo na ponta esquerda (x = 0) e outro livre no fim (x = 4)\n",
    "apoioA = ez.Apoio(x=0, tipo=2)\n",
    "apoioB = ez.Apoio(x=4, tipo=1)\n",
    "\n",
    "# Criar uma forca CONCENTRADA vertical (de cima para baixo) de 10kN no meio da viga (x = 2)\n",
    "forca1 = ez.ForcaC(f=-10000, x=2, tipo=2)\n",
    "\n",
    "# Criar a estrutura para resolver os diagramas\n",
    "apoios = [apoioA, apoioB]\n",
    "forcas = [forca1]\n",
    "# Criar uma viga de tamanho 4. Momento, inercia e area serao padrao.\n",
    "viga1 = ez.Viga(4)\n",
    "\n",
    "# Criar dois apoios. Um apoio fixo na ponta esquerda (x = 0) e outro livre no fim (x = 4)\n",
    "apoioA = ez.Apoio(x=0, tipo=2)\n",
    "apoioB = ez.Apoio(x=4, tipo=1)\n",
    "\n",
    "# Criar uma forca CONCENTRADA vertical (de cima para baixo) de 10kN no meio da viga (x = 2)\n",
    "forca1 = ez.ForcaC(f=-10000, x=2, tipo=2)\n",
    "\n",
    "# Criar a estrutura para resolver os diagramas\n",
    "apoios = [apoioA, apoioB]\n",
    "forcas = [forca1]\n",
    "estrut1 = ez.Eztrut(viga1, apoios, forcas)"
   ]
  },
  {
   "cell_type": "code",
   "execution_count": 15,
   "metadata": {
    "collapsed": false
   },
   "outputs": [
    {
     "data": {
      "image/png": "[encoded data removed]",
      "text/plain": [
       "<matplotlib.figure.Figure at 0xf7ed10>"
      ]
     },
     "metadata": {},
     "output_type": "display_data"
    }
   ],
   "source": [
    "estrut1.mostrar_figura()"
   ]
  },
  {
   "cell_type": "code",
   "execution_count": null,
   "metadata": {
    "collapsed": true
   },
   "outputs": [],
   "source": []
  }
 ],
 "metadata": {
  "kernelspec": {
   "display_name": "Python 3",
   "language": "python",
   "name": "python3"
  },
  "language_info": {
   "codemirror_mode": {
    "name": "ipython",
    "version": 3
   },
   "file_extension": ".py",
   "mimetype": "text/x-python",
   "name": "python",
   "nbconvert_exporter": "python",
   "pygments_lexer": "ipython3",
   "version": "3.6.0"
  }
 },
 "nbformat": 4,
 "nbformat_minor": 2
}
